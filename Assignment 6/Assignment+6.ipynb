{
 "cells": [
  {
   "cell_type": "markdown",
   "metadata": {},
   "source": [
    "# Assignment: Dino Fun World Analysis Cont.\n",
    "As in your previous assignments, the administrators of the Dino Fun World theme park have asked you, one of their data analysts, to perform a data analysis task in order to help them administer the park. In this case, your task builds upon one of the tasks the administrators previously asked you to perform. In a prior task, you were asked to find the distance between a set of visitor trajectories using a simple edit distance algorithm and report the distances. For this task, you must construct and display a dendrogram of those distances. Again, the administrators of the park have provided a database which contains the information needed.\n",
    "\n",
    "### Provided Database\n",
    "\n",
    "The database provided by the park administration is formatted to be readable by any SQL database library. The course staff recommends the sqlite3 library. The database contains three tables, named 'checkins', 'attractions', and 'sequences'. The information contained in each of these tables is listed below:\n",
    "\n",
    "`checkins`:\n",
    "    - Description: check-in data for all visitors for the day in the park. The data includes two types of check-ins, inferred and actual checkins.\n",
    "    - Fields: visitorID, timestamp, attraction, duration, type\n",
    "`attraction`:\n",
    "    - The attractions in the park by their corresponding AttractionID, Name, Region, Category, and type. Regions are from the VAST Challenge map such as Coaster Alley, Tundra Land, etc. Categories include Thrill rides, Kiddie Rides, etc. Type is broken into Outdoor Coaster, Other Ride, Carussel, etc.\n",
    "    - Fields: AttractionID, Name, Region, Category, type\n",
    "`sequences`:\n",
    "    - The check-in sequences of visitors. These sequences list the position of each visitor to the park every five minutes. If the visitor has not entered the part yet, the sequence has a value of 0 for that time interval. If the visitor is in the park, the sequence lists the attraction they have most recently checked in to until they check in to a new one or leave the park.\n",
    "    - Fields: visitorID, sequence\n",
    "    \n",
    "The database is named 'dinofunworld.db' and is available at readonly/dinofunworld.db.\n",
    "\n",
    "### Questions to Answer\n",
    "\n",
    "This tasks consists of only one question, which will require you to generate a dendrogram graph. Create this dendrogram using the trajectories of the visitors with the IDs: 165316, 1835254, 296394, 404385, and 448990. If you are unsure about how to create a dendrogram, please refer to the Jupyter Notebook example which covers creating a dendrogram. When performing clustering over the trajectories to inform the dendrogram, use an average distance over all points in the cluster.\n",
    "\n",
    "#### Administrative Notes\n",
    "\n",
    "This assignment will be graded by Coursera's grading system. In order for your answers to be correctly registered in the system, you must place the code for your answers in the cell indicated for each question. In addition, you should submit the assignment with the output of the code in the cell's display area. The display area should contain only your answer to the question with no extraneous information, or else the answer may not be picked up correctly. Each cell that is going to be graded has a set of comment lines at the beginning of the cell. These lines are extremely important and must not be modified or removed."
   ]
  },
  {
   "cell_type": "code",
   "execution_count": 1,
   "metadata": {},
   "outputs": [
    {
     "data": {
      "image/png": "[encoded data removed]",
      "text/plain": [
       "<Figure size 432x288 with 1 Axes>"
      ]
     },
     "metadata": {},
     "output_type": "display_data"
    }
   ],
   "source": [
    "# Graded Cell, PartID:RLU7S\n",
    "# Create and display a dendrogram of the trajectories of the 5 visitors specified above.\n",
    "# The clustering algorithm used to create the dendrogram should use the average distance\n",
    "# between points in a cluster.\n",
    "import sqlite3\n",
    "import matplotlib.pyplot as plt\n",
    "import numpy as np\n",
    "from scipy.cluster.hierarchy import dendrogram, linkage\n",
    "from scipy.spatial.distance import squareform\n",
    "%matplotlib inline\n",
    "\n",
    "db_filename = 'readonly/dinofunworld.db'\n",
    "conn = sqlite3.connect(db_filename)\n",
    "cursor = conn.cursor()\n",
    "\n",
    "cursor.execute(\"select * from sequences where visitorid in (165316, 1835254, 296394, 404385, 448990)\")\n",
    "visitor_sequence_dict = {}\n",
    "for item in cursor.fetchall():\n",
    "    visitor_sequence_dict[item[1]] = item[2]\n",
    "\n",
    "result_dict = {}\n",
    "for visitor in visitor_sequence_dict:\n",
    "    result_dict[visitor] = {}\n",
    "    \n",
    "for visitor_a in visitor_sequence_dict:\n",
    "    for visitor_b in visitor_sequence_dict:\n",
    "        result_dict[visitor_a][visitor_b] = 0\n",
    "    \n",
    "for visitor_a in visitor_sequence_dict:\n",
    "    for visitor_b in visitor_sequence_dict:\n",
    "        if visitor_a == visitor_b:\n",
    "            continue\n",
    "        \n",
    "        seq_a = visitor_sequence_dict[visitor_a].split(\"-\")\n",
    "        seq_b = visitor_sequence_dict[visitor_b].split(\"-\")\n",
    "        \n",
    "        for part_a, part_b in zip(seq_a, seq_b):\n",
    "            if part_a != part_b:\n",
    "                result_dict[visitor_a][visitor_b] += 1\n",
    "\n",
    "dist_matrix = []\n",
    "for key in sorted(result_dict.keys()):\n",
    "    temp = []\n",
    "    for new_key in sorted(result_dict.keys()):\n",
    "        temp.append(result_dict[key][new_key])\n",
    "    dist_matrix.append(temp)\n",
    "\n",
    "dists = squareform(np.array(dist_matrix))\n",
    "linkage_matrix = linkage(dists, \"average\")\n",
    "dendrogram(linkage_matrix, labels=sorted(result_dict.keys()))\n",
    "plt.show()"
   ]
  }
 ],
 "metadata": {
  "coursera": {
   "course_slug": "cse578",
   "graded_item_id": "uzEng",
   "launcher_item_id": "PoO5v"
  },
  "kernelspec": {
   "display_name": "Python 3",
   "language": "python",
   "name": "python3"
  },
  "language_info": {
   "codemirror_mode": {
    "name": "ipython",
    "version": 3
   },
   "file_extension": ".py",
   "mimetype": "text/x-python",
   "name": "python",
   "nbconvert_exporter": "python",
   "pygments_lexer": "ipython3",
   "version": "3.6.5"
  }
 },
 "nbformat": 4,
 "nbformat_minor": 2
}
